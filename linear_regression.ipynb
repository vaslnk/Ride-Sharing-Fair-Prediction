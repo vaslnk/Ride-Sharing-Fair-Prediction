{
 "cells": [
  {
   "cell_type": "markdown",
   "metadata": {},
   "source": [
    "# Ride-Sharing apps Fair Prediction using sklearn Linear Regression approach\n",
    "### Kaggle profile: https://www.kaggle.com/vaslnk\n",
    "\n",
    "The dataset is San Francisco Taxi data from September 2012. The dataset consists of 50,000 taxi trips taken in the Bay Area during that time period. For each trip you are given the departure time, arrival time, passenger fare, departure and arrival coordinates as well as departure and arrival TAZs. "
   ]
  },
  {
   "cell_type": "markdown",
   "metadata": {},
   "source": [
    "## Installing Google Maps API"
   ]
  },
  {
   "cell_type": "code",
   "execution_count": 193,
   "metadata": {},
   "outputs": [
    {
     "name": "stdout",
     "output_type": "stream",
     "text": [
      "Requirement already up-to-date: googlemaps in /srv/app/venv/lib/python3.6/site-packages\n",
      "Requirement already up-to-date: requests<3.0,>=2.11.1 in /srv/app/venv/lib/python3.6/site-packages (from googlemaps)\n",
      "Requirement already up-to-date: idna<2.8,>=2.5 in /srv/app/venv/lib/python3.6/site-packages (from requests<3.0,>=2.11.1->googlemaps)\n",
      "Requirement already up-to-date: chardet<3.1.0,>=3.0.2 in /srv/app/venv/lib/python3.6/site-packages (from requests<3.0,>=2.11.1->googlemaps)\n",
      "Requirement already up-to-date: certifi>=2017.4.17 in /srv/app/venv/lib/python3.6/site-packages (from requests<3.0,>=2.11.1->googlemaps)\n",
      "Requirement already up-to-date: urllib3<1.25,>=1.21.1 in /srv/app/venv/lib/python3.6/site-packages (from requests<3.0,>=2.11.1->googlemaps)\n"
     ]
    }
   ],
   "source": [
    "!pip install -U googlemaps"
   ]
  },
  {
   "cell_type": "code",
   "execution_count": 194,
   "metadata": {},
   "outputs": [],
   "source": [
    "from datascience import *\n",
    "import datetime\n",
    "import matplotlib.pyplot as plt\n",
    "import numpy as np\n",
    "import pandas as pd\n",
    "from sklearn.model_selection import train_test_split\n",
    "from sklearn.linear_model import LinearRegression\n",
    "import googlemaps\n",
    "\n",
    "%matplotlib inline"
   ]
  },
  {
   "cell_type": "code",
   "execution_count": 196,
   "metadata": {},
   "outputs": [],
   "source": [
    "sf_taxi_trips = Table.read_table('Taxi_Train.csv')"
   ]
  },
  {
   "cell_type": "markdown",
   "metadata": {},
   "source": [
    "## Useful Date functions"
   ]
  },
  {
   "cell_type": "code",
   "execution_count": 197,
   "metadata": {},
   "outputs": [],
   "source": [
    "def get_hour(s): \n",
    "    return datetime.datetime.strptime(s, \"%m/%d/%y %H:%M\").hour\n",
    "\n",
    "def get_date(s): \n",
    "    return datetime.datetime.strptime(s, \"%m/%d/%y %H:%M\").date()\n",
    "\n",
    "def get_weekday(s): # 0 = Monday - 6= Sunday\n",
    "    return datetime.datetime.strptime(s, \"%m/%d/%y %H:%M\").date().weekday()\n",
    "\n",
    "def get_duration(start,finish): \n",
    "    start_time = datetime.datetime.strptime(start, \"%m/%d/%y %H:%M\")\n",
    "    end_time = datetime.datetime.strptime(finish, \"%m/%d/%y %H:%M\")\n",
    "    return (end_time-start_time).seconds/60."
   ]
  },
  {
   "cell_type": "markdown",
   "metadata": {},
   "source": [
    "## Adding Map Distance Data"
   ]
  },
  {
   "cell_type": "code",
   "execution_count": 198,
   "metadata": {},
   "outputs": [],
   "source": [
    "def distance_on_sphere(lat1, lon1, lat2, lon2):\n",
    "    # Convert latitude and longitude to spherical coordinates in radians.\n",
    "    degrees_to_radians = np.pi/180.0\n",
    "        \n",
    "    # phi = 90 - latitude\n",
    "    phi1 = (90.0 - lat1)*degrees_to_radians\n",
    "    phi2 = (90.0 - lat2)*degrees_to_radians\n",
    "        \n",
    "    # theta = longitude\n",
    "    theta1 = lon1*degrees_to_radians\n",
    "    theta2 = lon2*degrees_to_radians\n",
    "        \n",
    "    # We can compute spherical distance from spherical coordinates.\n",
    "    cos = (np.sin(phi1)*np.sin(phi2)*np.cos(theta1-theta2)+\n",
    "           np.cos(phi1)*np.cos(phi2))\n",
    "    arc = np.arccos(cos)\n",
    "\n",
    "    # Multiply arc by the radius of the earth to get length.\n",
    "    return 3960.*arc  # to get distance in miles\n",
    "\n",
    "def rotate_table(table):\n",
    "    '''Transforms a 2 x n table to be an n x 2 table'''\n",
    "    return Table().with_columns(['Columns', list(table.labels),\n",
    "                                 'Values', list(table.to_array()[0])])"
   ]
  },
  {
   "cell_type": "markdown",
   "metadata": {},
   "source": [
    "## Computing trip distance and duration using Google Maps API"
   ]
  },
  {
   "cell_type": "markdown",
   "metadata": {},
   "source": [
    "Will use this approach for trips with starting or ending taz of 0"
   ]
  },
  {
   "cell_type": "code",
   "execution_count": 230,
   "metadata": {},
   "outputs": [],
   "source": [
    "# Get string of the input date a year later\n",
    "# Used due to the fact Google Maps API only accepts dates in the future\n",
    "def thisDatein2019(d_string):\n",
    "    return d_string.split(' ')[0][:-1] + '9' + ' ' + d_string.split(' ')[1]"
   ]
  },
  {
   "cell_type": "markdown",
   "metadata": {},
   "source": [
    "### How to setup Google Maps API:"
   ]
  },
  {
   "cell_type": "markdown",
   "metadata": {},
   "source": [
    "- Link: https://console.cloud.google.com/google/maps-apis\n",
    "- Note: Balance of $200/month **for students**\n",
    "- To verify: https://cloud.google.com/maps-platform/pricing/sheet/"
   ]
  },
  {
   "cell_type": "code",
   "execution_count": 233,
   "metadata": {},
   "outputs": [],
   "source": [
    "def getGoogleMapsTimeAndDuration(orig_lat, orig_lng, dest_lat, dest_lng, start_time):\n",
    "    gmaps = googlemaps.Client(key='INSERT GOOGLE MAPS API KEY HERE')\n",
    "    departure_time = datetime.datetime.strptime(thisDatein2019(start_time), \"%m/%d/%y %H:%M\")\n",
    "    origin = str(orig_lat) + ', ' +  str(orig_lng)\n",
    "    destination = str(dest_lat) + ', ' + str(dest_lng)\n",
    "    directions_result = gmaps.directions(origin,\n",
    "                                         destination,\n",
    "                                         mode=\"driving\",\n",
    "                                         avoid=\"ferries\",\n",
    "                                         departure_time=departure_time\n",
    "                                        )\n",
    "    if directions_result and len(directions_result) > 0:\n",
    "        distance = directions_result[0]['legs'][0]['distance']['text'].split(' ')[0] #miles\n",
    "        duration = directions_result[0]['legs'][0]['duration']['text'].split(' ')[0] #minutes\n",
    "        return duration, distance\n",
    "    else:\n",
    "        return None, None"
   ]
  },
  {
   "cell_type": "markdown",
   "metadata": {},
   "source": [
    "## Computing trip distance and duration using TAZ travel distances and times "
   ]
  },
  {
   "cell_type": "code",
   "execution_count": 200,
   "metadata": {},
   "outputs": [],
   "source": [
    "times = pd.read_csv('times.csv') #TAZ Times\n",
    "dists = pd.read_csv('distances.csv') #TAZ Distances"
   ]
  },
  {
   "cell_type": "code",
   "execution_count": 201,
   "metadata": {},
   "outputs": [],
   "source": [
    "def getDrivingDuration(start_taz, end_taz, number_pax):\n",
    "    origin = times.iloc[(times['origin']-start_taz).abs().argsort()[:1]].iloc[0]['origin']\n",
    "    destination = times.iloc[(times['destination']-end_taz).abs().argsort()[:1]].iloc[0]['destination']\n",
    "    df = times[(times['origin'] == origin) & (times['destination'] == destination)].iloc[0]\n",
    "    if number_pax == 1:\n",
    "        return df['shared ride (2 people)']\n",
    "    else:\n",
    "        return df['shared ride (3 people)']"
   ]
  },
  {
   "cell_type": "code",
   "execution_count": 202,
   "metadata": {},
   "outputs": [],
   "source": [
    "def getDrivingDistance(start_taz, end_taz, number_pax):\n",
    "    origin = times.iloc[(times['origin']-start_taz).abs().argsort()[:1]].iloc[0]['origin']\n",
    "    destination = times.iloc[(times['destination']-end_taz).abs().argsort()[:1]].iloc[0]['destination']\n",
    "    df = dists[(dists['origin'] == origin) & (dists['destination'] == destination)].iloc[0]\n",
    "    if number_pax == 1:\n",
    "        return df['shared ride (2 people)']\n",
    "    else:\n",
    "        return df['shared ride (3 people)']"
   ]
  },
  {
   "cell_type": "markdown",
   "metadata": {},
   "source": [
    "## Combining multiple methods for preparing training data"
   ]
  },
  {
   "cell_type": "code",
   "execution_count": 203,
   "metadata": {},
   "outputs": [],
   "source": [
    "def getDistanceAndDuration(row):\n",
    "    if row['start_taz'] == 0 or row['end_taz'] == 0:\n",
    "        return getGoogleMapsTimeAndDuration(row['start_lat'], row['start_lng'], row['end_lat'], row['end_lng'], row['start_time'])\n",
    "    else:\n",
    "        driving_duration = get_duration(row['start_time'], row['end_time'])\n",
    "        driving_distance = getDrivingDistance(row['start_taz'], row['end_taz'], row['number_pax'])\n",
    "        return driving_duration, driving_distance"
   ]
  },
  {
   "cell_type": "markdown",
   "metadata": {},
   "source": [
    "## Combining multiple methods for preparing predicting data"
   ]
  },
  {
   "cell_type": "code",
   "execution_count": 204,
   "metadata": {},
   "outputs": [],
   "source": [
    "def predictDistanceAndDuration(row, train_df):\n",
    "    distance = row['distance']\n",
    "    find = train_df[(train_df['distance'] < distance + 0.2) & (train_df['distance'] > distance - 0.2)]\n",
    "    if (len(find) == 0) or (row['start_taz'] == 0 or row['end_taz'] == 0):\n",
    "        return getGoogleMapsTimeAndDuration(row['start_lat'], row['start_lng'], row['end_lat'], row['end_lng'], row['start_time'])\n",
    "    else:\n",
    "        driving_duration = find['driving_duration'].mean()\n",
    "        driving_distance = getDrivingDistance(row['start_taz'], row['end_taz'], row['number_pax'])\n",
    "        return driving_duration, driving_distance"
   ]
  },
  {
   "cell_type": "markdown",
   "metadata": {},
   "source": [
    "## Complete method for cleaning the data and adding all the required features"
   ]
  },
  {
   "cell_type": "code",
   "execution_count": 206,
   "metadata": {},
   "outputs": [],
   "source": [
    "def prepareData(df, train_df=None):\n",
    "    df = df.set_index('id')\n",
    "    # Distance on sphere between start and end points\n",
    "    df['distance'] = distance_on_sphere(df['start_lat'], df['start_lng'], df['end_lat'], df['end_lng'])\n",
    "    # Hour of the day\n",
    "    df['hour'] = df['start_time'].apply(get_hour)\n",
    "    # Day of the week\n",
    "    df['weekday'] = df['start_time'].apply(get_weekday)\n",
    "    # Bool whether ride occurs on a weekend\n",
    "    df['is_weekend'] = df['weekday'].isin([5, 6]).astype(int)\n",
    "    # Bool whether ride occurs on at night\n",
    "    df['is_atnight'] = ((df['hour'] >= 22) | (df['hour'] <= 6)).astype(int)\n",
    "    # Bool whether ride is to SFO\n",
    "    df['is_toSFO'] = (df['end_taz'] == 239).astype(int)\n",
    "    # Bool whether ride is to OAK\n",
    "    df['is_toOAK'] = (df['end_taz'] == 874).astype(int)\n",
    "    if train_df is None:\n",
    "        # Preparing complete training data\n",
    "        df['driving_stuff'] = df.apply(lambda row: getDistanceAndDuration(row), axis=1)\n",
    "    else:\n",
    "        # Preparing incomplete testing data\n",
    "        df['driving_stuff'] = df.apply(lambda row: predictDistanceAndDuration(row, train_df), axis=1)\n",
    "    df[['driving_duration', 'driving_distance']] = df['driving_stuff'].apply(pd.Series)\n",
    "    df = df.drop(['driving_stuff'], 1)\n",
    "    data = df.drop(['fare', 'start_time', 'end_time', 'start_lng', 'start_lat', 'end_lng', 'end_lat', 'start_taz', 'end_taz'], 1)\n",
    "    test = df[['fare']]\n",
    "    return data, test"
   ]
  },
  {
   "cell_type": "markdown",
   "metadata": {},
   "source": [
    "## Preparing the data"
   ]
  },
  {
   "cell_type": "code",
   "execution_count": 207,
   "metadata": {
    "scrolled": true
   },
   "outputs": [],
   "source": [
    "taxi_clean = sf_taxi_trips.to_df()\n",
    "# taxi_clean = taxi_clean[(taxi_clean['start_taz'] != 0) & (taxi_clean['end_taz'] != 0)]\n",
    "train_data, train_target = prepareData(taxi_clean)"
   ]
  },
  {
   "cell_type": "markdown",
   "metadata": {},
   "source": [
    "#### Fixing failed Google Maps API results"
   ]
  },
  {
   "cell_type": "code",
   "execution_count": 217,
   "metadata": {},
   "outputs": [],
   "source": [
    "train_data['driving_duration'] = train_data['driving_duration'].astype(float)\n",
    "train_data['driving_duration'].fillna(train_data['driving_duration'].mean(), inplace=True)"
   ]
  },
  {
   "cell_type": "code",
   "execution_count": 218,
   "metadata": {},
   "outputs": [],
   "source": [
    "train_data['driving_distance'] = train_data['driving_distance'].astype(float)\n",
    "train_data['driving_distance'].fillna(train_data['driving_distance'].mean(), inplace=True)"
   ]
  },
  {
   "cell_type": "markdown",
   "metadata": {},
   "source": [
    "## 80/20 split for model training & testing"
   ]
  },
  {
   "cell_type": "code",
   "execution_count": 219,
   "metadata": {
    "scrolled": true
   },
   "outputs": [],
   "source": [
    "X_train, X_test, y_train, y_test = train_test_split(train_data, train_target, test_size=0.2, random_state=0)"
   ]
  },
  {
   "cell_type": "markdown",
   "metadata": {},
   "source": [
    "# Linear regression\n"
   ]
  },
  {
   "cell_type": "code",
   "execution_count": 220,
   "metadata": {},
   "outputs": [
    {
     "data": {
      "text/plain": [
       "0.9242138640385439"
      ]
     },
     "execution_count": 220,
     "metadata": {},
     "output_type": "execute_result"
    }
   ],
   "source": [
    "# Set up the model\n",
    "model = LinearRegression()\n",
    "# Use fit\n",
    "model.fit(X_train, y_train)\n",
    "# Check the score\n",
    "model.score(X_test, y_test)"
   ]
  },
  {
   "cell_type": "markdown",
   "metadata": {},
   "source": [
    "## Predicting the Fare"
   ]
  },
  {
   "cell_type": "code",
   "execution_count": 221,
   "metadata": {},
   "outputs": [],
   "source": [
    "test = pd.read_csv('Taxi_Query.csv')\n",
    "to_predict, _ = prepareData(test, train_data)"
   ]
  },
  {
   "cell_type": "markdown",
   "metadata": {},
   "source": [
    "#### Fixing failed Google Maps API results"
   ]
  },
  {
   "cell_type": "code",
   "execution_count": 224,
   "metadata": {},
   "outputs": [],
   "source": [
    "to_predict['driving_duration'] = to_predict['driving_duration'].astype(float)\n",
    "to_predict['driving_distance'] = to_predict['driving_distance'].astype(float)"
   ]
  },
  {
   "cell_type": "code",
   "execution_count": 225,
   "metadata": {},
   "outputs": [],
   "source": [
    "to_predict['driving_duration'].fillna(to_predict['driving_duration'].mean(), inplace=True)\n",
    "to_predict['driving_distance'].fillna(to_predict['driving_distance'].mean(), inplace=True)"
   ]
  },
  {
   "cell_type": "markdown",
   "metadata": {},
   "source": [
    "# Final Result"
   ]
  },
  {
   "cell_type": "code",
   "execution_count": 227,
   "metadata": {},
   "outputs": [],
   "source": [
    "result = model.predict(to_predict)"
   ]
  },
  {
   "cell_type": "code",
   "execution_count": 228,
   "metadata": {},
   "outputs": [],
   "source": [
    "pd.DataFrame(data=result, index=to_predict.index, columns=['Fare']).reset_index().rename({'id':'Id'}, axis=1).to_csv('result.csv', index=False)"
   ]
  }
 ],
 "metadata": {
  "kernelspec": {
   "display_name": "Python 3",
   "language": "python",
   "name": "python3"
  },
  "language_info": {
   "codemirror_mode": {
    "name": "ipython",
    "version": 3
   },
   "file_extension": ".py",
   "mimetype": "text/x-python",
   "name": "python",
   "nbconvert_exporter": "python",
   "pygments_lexer": "ipython3",
   "version": "3.6.6"
  }
 },
 "nbformat": 4,
 "nbformat_minor": 1
}
